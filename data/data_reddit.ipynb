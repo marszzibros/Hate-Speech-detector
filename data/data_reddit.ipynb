{
 "cells": [
  {
   "cell_type": "code",
   "execution_count": 1,
   "metadata": {},
   "outputs": [],
   "source": [
    "import requests\n",
    "import json\n",
    "import datetime as dt\n",
    "import pandas as pd\n",
    "import sqlite3\n",
    "from multiprocessing import Pool, cpu_count"
   ]
  },
  {
   "cell_type": "code",
   "execution_count": 2,
   "metadata": {},
   "outputs": [],
   "source": [
    "# connect to sql database that stores all the values\n",
    "\n",
    "conn = sqlite3.connect('reddit_data.db')"
   ]
  },
  {
   "cell_type": "code",
   "execution_count": 3,
   "metadata": {},
   "outputs": [],
   "source": [
    "# function to create a string type output from a list of keywords we want \n",
    "\n",
    "def keywords_filter_str(keywords_filter):\n",
    "    str_kf = \"\"\n",
    "    for k in keywords_filter:\n",
    "        str_kf = str_kf + k + \",\"\n",
    "    str_kf = str_kf[:-1]\n",
    "    return str_kf"
   ]
  },
  {
   "cell_type": "code",
   "execution_count": 4,
   "metadata": {},
   "outputs": [],
   "source": [
    "# function to query data from pushshift\n",
    "def extract_data(submissions_endpoint, size, min_comments, subreddits, keywords_filter, start_date, end_date):\n",
    "\n",
    "    for subreddit in subreddits:\n",
    "        # loop over all dates in the given range\n",
    "        curr_date = start_date\n",
    "        while curr_date < end_date:\n",
    "\n",
    "            after_dt = int(curr_date.timestamp())\n",
    "            before_dt = int((curr_date + dt.timedelta(days=1)).timestamp())\n",
    "            curr_date += dt.timedelta(days= 1)\n",
    "\n",
    "            # GET\n",
    "            req = requests.get(f'{submissions_endpoint}?subreddit={subreddit}&fields={keywords_filter_str(keywords_filter)}&after={after_dt}&before={before_dt}&num_comments=>{min_comments}&size={size}')\n",
    "            \n",
    "            # validate for any errors\n",
    "            if req.status_code == 200:\n",
    "                data = json.loads(req.text)['data']\n",
    "                data_df = pd.DataFrame(data).set_index('id')\n",
    "                data_df.to_sql('submissions', conn, if_exists='append') # push the data to sql database\n",
    "            # log all the errors\n",
    "            else:\n",
    "                error_df = pd.DataFrame([{'code': req.status_code, 'date': curr_date, 'subreddit': subreddit}])\n",
    "                error_df.to_sql('errors', conn, if_exists='append')"
   ]
  },
  {
   "cell_type": "code",
   "execution_count": 5,
   "metadata": {},
   "outputs": [],
   "source": [
    "# query parameters to work with\n",
    "\n",
    "submissions_endpoint = 'https://api.pushshift.io/reddit/search/submission/'\n",
    "size = 500\n",
    "min_comments = 1\n",
    "\n",
    "subreddits = ['mensrights', 'theredpill', 'genzedong', 'conservative']\n",
    "keywords_filter= ['author', 'created_utc', \n",
    "                    'full_link', 'id', 'is_self', \n",
    "                    'is_video', 'num_comments', \n",
    "                    'num_crossposts', 'over_18', \n",
    "                    'score', 'selftext', 'subreddit', \n",
    "                    'subreddit_id', 'url', 'upvote_ratio', 'title']\n",
    "start_date = dt.datetime(2018, 5, 1)\n",
    "end_date = dt.datetime(2022, 11, 1)"
   ]
  },
  {
   "cell_type": "code",
   "execution_count": 1,
   "metadata": {},
   "outputs": [
    {
     "ename": "NameError",
     "evalue": "name 'extract_data' is not defined",
     "output_type": "error",
     "traceback": [
      "\u001b[0;31m---------------------------------------------------------------------------\u001b[0m",
      "\u001b[0;31mNameError\u001b[0m                                 Traceback (most recent call last)",
      "Cell \u001b[0;32mIn [1], line 1\u001b[0m\n\u001b[0;32m----> 1\u001b[0m extract_data(submissions_endpoint, size, min_comments, subreddits, keywords_filter, start_date, end_date)\n",
      "\u001b[0;31mNameError\u001b[0m: name 'extract_data' is not defined"
     ]
    }
   ],
   "source": [
    "extract_data(submissions_endpoint, size, min_comments, subreddits, keywords_filter, start_date, end_date)"
   ]
  }
 ],
 "metadata": {
  "kernelspec": {
   "display_name": "Python 3.10.6 64-bit",
   "language": "python",
   "name": "python3"
  },
  "language_info": {
   "codemirror_mode": {
    "name": "ipython",
    "version": 3
   },
   "file_extension": ".py",
   "mimetype": "text/x-python",
   "name": "python",
   "nbconvert_exporter": "python",
   "pygments_lexer": "ipython3",
   "version": "3.10.6"
  },
  "orig_nbformat": 4,
  "vscode": {
   "interpreter": {
    "hash": "916dbcbb3f70747c44a77c7bcd40155683ae19c65e1c03b4aa3499c5328201f1"
   }
  }
 },
 "nbformat": 4,
 "nbformat_minor": 2
}
