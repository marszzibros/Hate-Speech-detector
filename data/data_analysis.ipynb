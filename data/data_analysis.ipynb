{
 "cells": [
  {
   "cell_type": "markdown",
   "metadata": {},
   "source": [
    "<h1>Hate Speech Detector</h1>\n",
    "<h3>CS/CSYS/STAT 287 Data Science</h3>\n",
    "<h4>Data analysis</h4>\n",
    "<h4>Aviral Chawla, Daniel Orem, Jay Hwasung Jung, Shunsuke Miyazato</h4>\n",
    "---------------------------------------------------------------------------------------"
   ]
  },
  {
   "cell_type": "code",
   "execution_count": 2,
   "metadata": {},
   "outputs": [],
   "source": [
    "# loading in modules\n",
    "import pandas as pd\n",
    "import numpy as np\n",
    "import matplotlib.pyplot as plt\n",
    "from datetime import datetime"
   ]
  },
  {
   "cell_type": "code",
   "execution_count": 3,
   "metadata": {},
   "outputs": [],
   "source": [
    "# file path and initialize processed data\n",
    "PATH_TO_GOOGLE_PERSPECTIVE_RESTULT = \"./out_2.csv\"\n",
    "imported_data = pd.read_csv(PATH_TO_GOOGLE_PERSPECTIVE_RESTULT)"
   ]
  },
  {
   "cell_type": "code",
   "execution_count": 4,
   "metadata": {},
   "outputs": [
    {
     "name": "stdout",
     "output_type": "stream",
     "text": [
      "47436\n"
     ]
    },
    {
     "data": {
      "text/html": [
       "<div>\n",
       "<style scoped>\n",
       "    .dataframe tbody tr th:only-of-type {\n",
       "        vertical-align: middle;\n",
       "    }\n",
       "\n",
       "    .dataframe tbody tr th {\n",
       "        vertical-align: top;\n",
       "    }\n",
       "\n",
       "    .dataframe thead th {\n",
       "        text-align: right;\n",
       "    }\n",
       "</style>\n",
       "<table border=\"1\" class=\"dataframe\">\n",
       "  <thead>\n",
       "    <tr style=\"text-align: right;\">\n",
       "      <th></th>\n",
       "      <th>text</th>\n",
       "      <th>id</th>\n",
       "      <th>author</th>\n",
       "      <th>created_utc</th>\n",
       "      <th>score</th>\n",
       "      <th>subreddit</th>\n",
       "      <th>TOXICITY</th>\n",
       "      <th>INSULT</th>\n",
       "      <th>THREAT</th>\n",
       "    </tr>\n",
       "    <tr>\n",
       "      <th>Unnamed: 0</th>\n",
       "      <th></th>\n",
       "      <th></th>\n",
       "      <th></th>\n",
       "      <th></th>\n",
       "      <th></th>\n",
       "      <th></th>\n",
       "      <th></th>\n",
       "      <th></th>\n",
       "      <th></th>\n",
       "    </tr>\n",
       "  </thead>\n",
       "  <tbody>\n",
       "    <tr>\n",
       "      <th>0</th>\n",
       "      <td>the simplest response is so female victims of ...</td>\n",
       "      <td>8g5sxr</td>\n",
       "      <td>JohnKimble111</td>\n",
       "      <td>1525148826</td>\n",
       "      <td>40</td>\n",
       "      <td>MensRights</td>\n",
       "      <td>0.255384</td>\n",
       "      <td>0.077453</td>\n",
       "      <td>0.009282</td>\n",
       "    </tr>\n",
       "    <tr>\n",
       "      <th>1</th>\n",
       "      <td>kotakuinaction scum are imbeciles who go after...</td>\n",
       "      <td>8g5zag</td>\n",
       "      <td>lpoop789</td>\n",
       "      <td>1525150942</td>\n",
       "      <td>1</td>\n",
       "      <td>MensRights</td>\n",
       "      <td>0.911035</td>\n",
       "      <td>0.829747</td>\n",
       "      <td>0.348043</td>\n",
       "    </tr>\n",
       "    <tr>\n",
       "      <th>2</th>\n",
       "      <td>if women were oppressed in the west until quit...</td>\n",
       "      <td>8g644k</td>\n",
       "      <td>danielmd92</td>\n",
       "      <td>1525152596</td>\n",
       "      <td>133</td>\n",
       "      <td>MensRights</td>\n",
       "      <td>0.132146</td>\n",
       "      <td>0.026960</td>\n",
       "      <td>0.010835</td>\n",
       "    </tr>\n",
       "    <tr>\n",
       "      <th>3</th>\n",
       "      <td>i use cards with reddit is fun a reddit app fr...</td>\n",
       "      <td>8g6ynw</td>\n",
       "      <td>lpoop789</td>\n",
       "      <td>1525164358</td>\n",
       "      <td>357</td>\n",
       "      <td>MensRights</td>\n",
       "      <td>0.021668</td>\n",
       "      <td>0.009451</td>\n",
       "      <td>0.008091</td>\n",
       "    </tr>\n",
       "    <tr>\n",
       "      <th>4</th>\n",
       "      <td>i find that i run into this argument a lot whe...</td>\n",
       "      <td>8g7568</td>\n",
       "      <td>JackFisherBooks</td>\n",
       "      <td>1525166725</td>\n",
       "      <td>20</td>\n",
       "      <td>MensRights</td>\n",
       "      <td>0.165919</td>\n",
       "      <td>0.060232</td>\n",
       "      <td>0.013321</td>\n",
       "    </tr>\n",
       "    <tr>\n",
       "      <th>...</th>\n",
       "      <td>...</td>\n",
       "      <td>...</td>\n",
       "      <td>...</td>\n",
       "      <td>...</td>\n",
       "      <td>...</td>\n",
       "      <td>...</td>\n",
       "      <td>...</td>\n",
       "      <td>...</td>\n",
       "      <td>...</td>\n",
       "    </tr>\n",
       "    <tr>\n",
       "      <th>47431</th>\n",
       "      <td>tye world trade centre ordered pepperoni pizza...</td>\n",
       "      <td>mjwnaq</td>\n",
       "      <td>MarxistClassicide</td>\n",
       "      <td>1617544457</td>\n",
       "      <td>2</td>\n",
       "      <td>GenZedong</td>\n",
       "      <td>0.051563</td>\n",
       "      <td>0.017013</td>\n",
       "      <td>0.007586</td>\n",
       "    </tr>\n",
       "    <tr>\n",
       "      <th>47432</th>\n",
       "      <td>he died after getting pinned</td>\n",
       "      <td>mjwsuo</td>\n",
       "      <td>Irrelevant-Lizard</td>\n",
       "      <td>1617544977</td>\n",
       "      <td>1</td>\n",
       "      <td>GenZedong</td>\n",
       "      <td>0.247637</td>\n",
       "      <td>0.035774</td>\n",
       "      <td>0.163835</td>\n",
       "    </tr>\n",
       "    <tr>\n",
       "      <th>47433</th>\n",
       "      <td>a place for r darkmememe members to chat with ...</td>\n",
       "      <td>mjwt6d</td>\n",
       "      <td>Gigadweeb</td>\n",
       "      <td>1617545005</td>\n",
       "      <td>1</td>\n",
       "      <td>GenZedong</td>\n",
       "      <td>0.044636</td>\n",
       "      <td>0.016557</td>\n",
       "      <td>0.008453</td>\n",
       "    </tr>\n",
       "    <tr>\n",
       "      <th>47434</th>\n",
       "      <td>should i try to make my profile pic a swastica...</td>\n",
       "      <td>mjwtfs</td>\n",
       "      <td>HorseHead-1</td>\n",
       "      <td>1617545029</td>\n",
       "      <td>1</td>\n",
       "      <td>GenZedong</td>\n",
       "      <td>0.147767</td>\n",
       "      <td>0.020644</td>\n",
       "      <td>0.033386</td>\n",
       "    </tr>\n",
       "    <tr>\n",
       "      <th>47435</th>\n",
       "      <td>mariupol maternity hospital destroyed by russi...</td>\n",
       "      <td>mjwwlr</td>\n",
       "      <td>ToadBup</td>\n",
       "      <td>1617545322</td>\n",
       "      <td>1</td>\n",
       "      <td>GenZedong</td>\n",
       "      <td>0.178917</td>\n",
       "      <td>0.027841</td>\n",
       "      <td>0.129962</td>\n",
       "    </tr>\n",
       "  </tbody>\n",
       "</table>\n",
       "<p>47436 rows × 9 columns</p>\n",
       "</div>"
      ],
      "text/plain": [
       "                                                         text      id  \\\n",
       "Unnamed: 0                                                              \n",
       "0           the simplest response is so female victims of ...  8g5sxr   \n",
       "1           kotakuinaction scum are imbeciles who go after...  8g5zag   \n",
       "2           if women were oppressed in the west until quit...  8g644k   \n",
       "3           i use cards with reddit is fun a reddit app fr...  8g6ynw   \n",
       "4           i find that i run into this argument a lot whe...  8g7568   \n",
       "...                                                       ...     ...   \n",
       "47431       tye world trade centre ordered pepperoni pizza...  mjwnaq   \n",
       "47432                            he died after getting pinned  mjwsuo   \n",
       "47433       a place for r darkmememe members to chat with ...  mjwt6d   \n",
       "47434       should i try to make my profile pic a swastica...  mjwtfs   \n",
       "47435       mariupol maternity hospital destroyed by russi...  mjwwlr   \n",
       "\n",
       "                       author  created_utc  score   subreddit  TOXICITY  \\\n",
       "Unnamed: 0                                                                \n",
       "0               JohnKimble111   1525148826     40  MensRights  0.255384   \n",
       "1                    lpoop789   1525150942      1  MensRights  0.911035   \n",
       "2                  danielmd92   1525152596    133  MensRights  0.132146   \n",
       "3                    lpoop789   1525164358    357  MensRights  0.021668   \n",
       "4             JackFisherBooks   1525166725     20  MensRights  0.165919   \n",
       "...                       ...          ...    ...         ...       ...   \n",
       "47431       MarxistClassicide   1617544457      2   GenZedong  0.051563   \n",
       "47432       Irrelevant-Lizard   1617544977      1   GenZedong  0.247637   \n",
       "47433               Gigadweeb   1617545005      1   GenZedong  0.044636   \n",
       "47434             HorseHead-1   1617545029      1   GenZedong  0.147767   \n",
       "47435                 ToadBup   1617545322      1   GenZedong  0.178917   \n",
       "\n",
       "              INSULT    THREAT  \n",
       "Unnamed: 0                      \n",
       "0           0.077453  0.009282  \n",
       "1           0.829747  0.348043  \n",
       "2           0.026960  0.010835  \n",
       "3           0.009451  0.008091  \n",
       "4           0.060232  0.013321  \n",
       "...              ...       ...  \n",
       "47431       0.017013  0.007586  \n",
       "47432       0.035774  0.163835  \n",
       "47433       0.016557  0.008453  \n",
       "47434       0.020644  0.033386  \n",
       "47435       0.027841  0.129962  \n",
       "\n",
       "[47436 rows x 9 columns]"
      ]
     },
     "execution_count": 4,
     "metadata": {},
     "output_type": "execute_result"
    }
   ],
   "source": [
    "# overview of data\n",
    "print(len(imported_data))\n",
    "imported_data.set_index('Unnamed: 0')"
   ]
  },
  {
   "cell_type": "code",
   "execution_count": 5,
   "metadata": {},
   "outputs": [
    {
     "name": "stdout",
     "output_type": "stream",
     "text": [
      "Index(['Unnamed: 0', 'text', 'id', 'author', 'created_utc', 'score',\n",
      "       'subreddit', 'TOXICITY', 'INSULT', 'THREAT'],\n",
      "      dtype='object')\n"
     ]
    }
   ],
   "source": [
    "# keys for the dataframe\n",
    "print(imported_data.keys())"
   ]
  },
  {
   "cell_type": "code",
   "execution_count": 6,
   "metadata": {},
   "outputs": [
    {
     "name": "stdout",
     "output_type": "stream",
     "text": [
      "Insult Score Example\n",
      "text:   this isn t r pussypass i was led to believe this sub was about men s issues that get overlooked by todays politics and society not the dumb bitch deserved it she accused him of sexual assault falsely\n",
      "scores: 0.65129566\n"
     ]
    }
   ],
   "source": [
    "# retrieve example of one insult\n",
    "print('Insult Score Example')\n",
    "print('text:   ' + imported_data[imported_data['INSULT'] > 0.65].iloc[10]['text'])\n",
    "print('scores: ' + str(imported_data[imported_data['INSULT'] > 0.65].iloc[10]['INSULT']))"
   ]
  },
  {
   "cell_type": "code",
   "execution_count": 7,
   "metadata": {},
   "outputs": [],
   "source": [
    "# get datasets of insult, toxicity, and threat higher than probabiliy 0.65 (it can be changed)\n",
    "insult_df = imported_data[imported_data['INSULT'] > 0.65]\n",
    "toxicity_df = imported_data[imported_data['TOXICITY'] > 0.65]\n",
    "threat_df = imported_data[imported_data['THREAT'] > 0.65]"
   ]
  },
  {
   "cell_type": "code",
   "execution_count": 8,
   "metadata": {},
   "outputs": [
    {
     "name": "stdout",
     "output_type": "stream",
     "text": [
      "INSULT:   416\n",
      "TOXICITY: 3234\n",
      "THREAT:   11\n"
     ]
    }
   ],
   "source": [
    "# overview of these dataframes\n",
    "print('INSULT:   ' + str(len(insult_df)))\n",
    "print('TOXICITY: ' + str(len(toxicity_df)))\n",
    "print('THREAT:   ' + str(len(threat_df)))"
   ]
  },
  {
   "cell_type": "code",
   "execution_count": 9,
   "metadata": {},
   "outputs": [
    {
     "name": "stdout",
     "output_type": "stream",
     "text": [
      "Bryzar\n"
     ]
    }
   ],
   "source": [
    "# sample author who insults\n",
    "print(insult_df.iloc[6]['author'])"
   ]
  },
  {
   "cell_type": "code",
   "execution_count": 10,
   "metadata": {},
   "outputs": [
    {
     "name": "stdout",
     "output_type": "stream",
     "text": [
      "     Unnamed: 0                                               text      id  \\\n",
      "747         747  idiots like this one are exactly why i am so s...  8n613d   \n",
      "\n",
      "     author  created_utc  score   subreddit  TOXICITY    INSULT    THREAT  \n",
      "747  Bryzar   1527657675     26  MensRights  0.776108  0.755201  0.020437  \n"
     ]
    }
   ],
   "source": [
    "# sample author's data\n",
    "print(toxicity_df[toxicity_df['author'] == 'Bryzar'])"
   ]
  },
  {
   "cell_type": "code",
   "execution_count": 11,
   "metadata": {},
   "outputs": [
    {
     "name": "stdout",
     "output_type": "stream",
     "text": [
      "author\n",
      "TheAndredal      53\n",
      "JohnKimble111    44\n",
      "EricAllonde      34\n",
      "Imnotmrabut      32\n",
      "benderXX         29\n",
      "                 ..\n",
      "NewsinAsia        1\n",
      "New-Grape2052     1\n",
      "NesVier           1\n",
      "Neroke2016a       1\n",
      "zzzsoebre         1\n",
      "Name: author, Length: 2160, dtype: int64\n"
     ]
    }
   ],
   "source": [
    "# find the author who posts hatespeech-toxicity the most frequent\n",
    "print(toxicity_df.groupby(['author'])['author'].count().sort_values(ascending=False))"
   ]
  },
  {
   "cell_type": "code",
   "execution_count": 12,
   "metadata": {},
   "outputs": [
    {
     "name": "stdout",
     "output_type": "stream",
     "text": [
      "i went to a concert recently and saw a girl i had hooked up with prior she was great in bed so i was taking cigs off her for minutes while we caught up if i didn t find anyone else that night i would go home with her next i saw another girl i had hooked up with prior said hi thought nothing of it saw a smoke show blonde and approached her and was dancing with her and she was borderline fucking me on the dance floor while we were making out hard girl two was nearby watching this all go down the night was coming to an end and i told her i d call the uber to my place she gives some bullshit excuse that she had a flight to catch in the morning and that she was just visiting her friends for the weekend wasn t able to get her to ditch her friends unfortunately next i m waiting in the parking lot trying to catch an uber and girl number two shows up i remember she lives next to me and i tell her to call us an uber back to her place she gives me shit about making out with a girl in front of her i laugh it off and then she buys the uber to her house when we get there she asks me how many girls i was dancing with i told her i lost count and then we fucked and i went home girls want a desirable man they want to see that the person they are hooking up with has high value it s not what they say but what they respond to\n"
     ]
    }
   ],
   "source": [
    "# one of the posts that 'TheAndredal' wrote\n",
    "print(toxicity_df[toxicity_df['author'] == 'TheAndredal']['text'].iloc[34])"
   ]
  },
  {
   "cell_type": "code",
   "execution_count": 13,
   "metadata": {},
   "outputs": [],
   "source": [
    "sample_df_TheAndredal = toxicity_df[toxicity_df['author'] == 'TheAndredal'][['text','TOXICITY','created_utc']]"
   ]
  },
  {
   "cell_type": "code",
   "execution_count": 14,
   "metadata": {},
   "outputs": [
    {
     "name": "stdout",
     "output_type": "stream",
     "text": [
      "2018-05-01 00:27:06\n"
     ]
    }
   ],
   "source": [
    "print(datetime.fromtimestamp(1525148826))\n",
    "sample_df_TheAndredal['converted_utc'] = [datetime.fromtimestamp(time) for time in sample_df_TheAndredal['created_utc']]\n",
    "sample_df_TheAndredal['hr'] = [time.hour for time in sample_df_TheAndredal['converted_utc']]"
   ]
  },
  {
   "cell_type": "code",
   "execution_count": 25,
   "metadata": {},
   "outputs": [
    {
     "name": "stdout",
     "output_type": "stream",
     "text": [
      "24\n"
     ]
    },
    {
     "data": {
      "image/png": "[encoded data removed]",
      "text/plain": [
       "<Figure size 1000x500 with 1 Axes>"
      ]
     },
     "metadata": {},
     "output_type": "display_data"
    }
   ],
   "source": [
    "fig = plt.figure(figsize = (10, 5))\n",
    "hour_array = np.array(sample_df_TheAndredal.groupby(['hr'])['hr'].count().values, dtype = int)\n",
    "hour_array = np.append(hour_array, np.zeros(24 - len(hour_array))) \n",
    "print(len(hour_array))\n",
    "\n",
    "# creating the bar plot\n",
    "plt.bar(np.arange(24), hour_array, color ='maroon', width = 0.4)\n",
    " \n",
    "plt.xlabel(\"Time\")\n",
    "plt.ylabel(\"# of posts\")\n",
    "plt.title(\"Trends of TheAndredal's Hate Speech - TOXICITY\")\n",
    "plt.show()"
   ]
  },
  {
   "cell_type": "code",
   "execution_count": null,
   "metadata": {},
   "outputs": [],
   "source": []
  }
 ],
 "metadata": {
  "kernelspec": {
   "display_name": "Python 3.10.6 64-bit",
   "language": "python",
   "name": "python3"
  },
  "language_info": {
   "codemirror_mode": {
    "name": "ipython",
    "version": 3
   },
   "file_extension": ".py",
   "mimetype": "text/x-python",
   "name": "python",
   "nbconvert_exporter": "python",
   "pygments_lexer": "ipython3",
   "version": "3.10.6"
  },
  "orig_nbformat": 4,
  "vscode": {
   "interpreter": {
    "hash": "916dbcbb3f70747c44a77c7bcd40155683ae19c65e1c03b4aa3499c5328201f1"
   }
  }
 },
 "nbformat": 4,
 "nbformat_minor": 2
}
