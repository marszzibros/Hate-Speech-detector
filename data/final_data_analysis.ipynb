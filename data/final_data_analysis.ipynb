{
 "cells": [
  {
   "cell_type": "code",
   "execution_count": 67,
   "metadata": {},
   "outputs": [],
   "source": [
    "# loading in modules\n",
    "import sqlite3\n",
    "import pandas as pd\n",
    "import numpy as np\n",
    "import pickle \n"
   ]
  },
  {
   "cell_type": "code",
   "execution_count": 79,
   "metadata": {},
   "outputs": [],
   "source": [
    "db_path_posts = \"./reddit_data.db\"\n",
    "\n",
    "# Create a SQL connection\n",
    "con = sqlite3.connect(db_path_posts)\n",
    "cursor = con.cursor()"
   ]
  },
  {
   "cell_type": "code",
   "execution_count": 80,
   "metadata": {},
   "outputs": [
    {
     "name": "stdout",
     "output_type": "stream",
     "text": [
      "             id           author  created_utc  \\\n",
      "0        8g5sxr    JohnKimble111   1525148826   \n",
      "1        8g5zag         lpoop789   1525150942   \n",
      "2        8g644k       danielmd92   1525152596   \n",
      "3        8g6ynw         lpoop789   1525164358   \n",
      "4        8g7568  JackFisherBooks   1525166725   \n",
      "...         ...              ...          ...   \n",
      "4574216  v5kbta  backyardheavens   1654456415   \n",
      "4574217  vp2s3h       LUAstrosoc   1656687390   \n",
      "4574218  vwv44p    diemunkiesdie   1657578591   \n",
      "4574219  x39k30       MOCingbird   1662043700   \n",
      "4574220  y0f47a     AdasLost2949   1665409288   \n",
      "\n",
      "                                                 full_link  is_self  is_video  \\\n",
      "0        https://www.reddit.com/r/MensRights/comments/8...        0         0   \n",
      "1        https://www.reddit.com/r/MensRights/comments/8...        0         0   \n",
      "2        https://www.reddit.com/r/MensRights/comments/8...        0         0   \n",
      "3        https://www.reddit.com/r/MensRights/comments/8...        0         0   \n",
      "4        https://www.reddit.com/r/MensRights/comments/8...        0         0   \n",
      "...                                                    ...      ...       ...   \n",
      "4574216  https://www.reddit.com/r/space/comments/v5kbta...        0         0   \n",
      "4574217  https://www.reddit.com/r/space/comments/vp2s3h...        0         0   \n",
      "4574218  https://www.reddit.com/r/space/comments/vwv44p...        0         0   \n",
      "4574219  https://www.reddit.com/r/space/comments/x39k30...        0         0   \n",
      "4574220  https://www.reddit.com/r/space/comments/y0f47a...        0         0   \n",
      "\n",
      "         num_comments  num_crossposts  over_18  score selftext   subreddit  \\\n",
      "0                   4               0        0     40           MensRights   \n",
      "1                   3               0        0      1           MensRights   \n",
      "2                  32               0        0    133           MensRights   \n",
      "3                  36               0        0    357           MensRights   \n",
      "4                   9               0        0     20           MensRights   \n",
      "...               ...             ...      ...    ...      ...         ...   \n",
      "4574216             2               0        0      1                space   \n",
      "4574217             2               0        0      1                space   \n",
      "4574218             2               0        0      1                space   \n",
      "4574219             2               0        0      1                space   \n",
      "4574220             2               0        0      1                space   \n",
      "\n",
      "        subreddit_id                                              title  \\\n",
      "0           t5_2qhk3  Man Claims He Saved 25% on Car Insurance By Ch...   \n",
      "1           t5_2qhk3                                                Men   \n",
      "2           t5_2qhk3  Been paying child support to my rapist for 16 ...   \n",
      "3           t5_2qhk3                     Men Deserve love and affection   \n",
      "4           t5_2qhk3  Profiles In Noble Masculinity: Joel From “The ...   \n",
      "...              ...                                                ...   \n",
      "4574216     t5_2qh87                                           NGC 7380   \n",
      "4574217     t5_2qh87                                   LUAstro Overview   \n",
      "4574218     t5_2qh87    High Resolution Version of the first JWST Image   \n",
      "4574219     t5_2qh87  This LEGO IDEAS design called \"LEGO ASTRONAUT\"...   \n",
      "4574220     t5_2qh87          Rocket engines under development in China   \n",
      "\n",
      "                                                       url  \n",
      "0        https://notablelife.com/canadian-man-claims-he...  \n",
      "1                      https://i.redd.it/d9awzcv9f6v01.jpg  \n",
      "2        https://www.reddit.com/r/SupportforMen/comment...  \n",
      "3                      https://i.redd.it/q7f3hu06j7v01.jpg  \n",
      "4        https://jackfisherbooks.com/2018/05/01/profile...  \n",
      "...                                                    ...  \n",
      "4574216                https://i.redd.it/ygpvvrhtqu391.jpg  \n",
      "4574217                https://i.redd.it/6h71jpon0z891.jpg  \n",
      "4574218                https://i.redd.it/t8tdrzzkm0b91.jpg  \n",
      "4574219                https://i.redd.it/1xhcgyjlf9l91.png  \n",
      "4574220                https://i.redd.it/ix3lv2cafzs91.jpg  \n",
      "\n",
      "[4574221 rows x 15 columns]\n"
     ]
    }
   ],
   "source": [
    "# get list from database\n",
    "query = \"SELECT * FROM submissions;\"\n",
    "\n",
    "reddit_df_posts = pd.read_sql_query(query, con)\n",
    "print(reddit_df_posts)\n",
    "\n",
    "con.close()"
   ]
  },
  {
   "cell_type": "code",
   "execution_count": 81,
   "metadata": {},
   "outputs": [
    {
     "name": "stdout",
     "output_type": "stream",
     "text": [
      "1086944\n"
     ]
    }
   ],
   "source": [
    "# is_self == 1\n",
    "is_self_data = reddit_df_posts[reddit_df_posts['is_self'] == 1]\n",
    "is_self_data = is_self_data[is_self_data['selftext'] != '[removed]']\n",
    "is_self_data = is_self_data[is_self_data['selftext'] != None]\n",
    "print(len(is_self_data))"
   ]
  },
  {
   "cell_type": "code",
   "execution_count": 82,
   "metadata": {},
   "outputs": [
    {
     "name": "stdout",
     "output_type": "stream",
     "text": [
      "715955\n"
     ]
    }
   ],
   "source": [
    "# comments over 5\n",
    "posts_df = is_self_data[is_self_data['num_comments'] >= 5]\n",
    "print(len(posts_df))"
   ]
  },
  {
   "cell_type": "code",
   "execution_count": 83,
   "metadata": {},
   "outputs": [],
   "source": [
    "db_path_comments = \"./reddit_data_comments.db\"\n",
    "\n",
    "# Create a SQL connection\n",
    "con = sqlite3.connect(db_path_comments)\n",
    "cursor = con.cursor()"
   ]
  },
  {
   "cell_type": "code",
   "execution_count": 84,
   "metadata": {},
   "outputs": [
    {
     "name": "stdout",
     "output_type": "stream",
     "text": [
      "              id           author  \\\n",
      "0        dy9bf8o      theothermod   \n",
      "1        dy9bh0f         lpoop789   \n",
      "2        dy9bi4e      theothermod   \n",
      "3        dy9cqc9  JackFisherBooks   \n",
      "4        dy9e5cc      thrway_1000   \n",
      "...          ...              ...   \n",
      "5717238  hica7f7    AutoModerator   \n",
      "5717239  hica7g2    AutoModerator   \n",
      "5717240  hjuaa29           dmemed   \n",
      "5717241  hu3hzpu        steve_tom   \n",
      "5717242  hwtzdi0        [deleted]   \n",
      "\n",
      "                                                      body  created_utc  \\\n",
      "0        The title of your post does not say enough abo...   1525163899   \n",
      "1                                                       Ok   1525164011   \n",
      "2        Describe what it's about and post it again. \"M...   1525164082   \n",
      "3        There's a lot of media criticism these days ab...   1525166916   \n",
      "4        Vice, when you need stupid people to feed you ...   1525170375   \n",
      "...                                                    ...          ...   \n",
      "5717238  [Glory to Stalin!](https://www.youtube.com/wat...   1635393898   \n",
      "5717239  Thanks for signing up to AOC facts! You will n...   1635393899   \n",
      "5717240  Bit of an older comment, so sorry for the repl...   1636399971   \n",
      "5717241  Apparently, [Genghis Khan was a communist](htt...   1643075470   \n",
      "5717242                                          [removed]   1644790053   \n",
      "\n",
      "         is_submitter    link_id  score   subreddit subreddit_id  Toxicity  \\\n",
      "0                 0.0  t3_8g5zag      1  MensRights     t5_2qhk3  0.093515   \n",
      "1                 0.0  t3_8g5zag      1  MensRights     t5_2qhk3  0.015016   \n",
      "2                 0.0  t3_8g5zag      1  MensRights     t5_2qhk3  0.203122   \n",
      "3                 1.0  t3_8g7568      6  MensRights     t5_2qhk3       NaN   \n",
      "4                 0.0  t3_8g780h     14  MensRights     t5_2qhk3  0.840319   \n",
      "...               ...        ...    ...         ...          ...       ...   \n",
      "5717238           0.0  t3_qhb5c0      1   GenZedong    t5_1vnbn1       NaN   \n",
      "5717239           0.0  t3_qhb5c0      1   GenZedong    t5_1vnbn1       NaN   \n",
      "5717240           0.0  t3_q1c5g6      2   GenZedong    t5_1vnbn1       NaN   \n",
      "5717241           0.0  t3_q1c5g6      1   GenZedong    t5_1vnbn1       NaN   \n",
      "5717242           0.0  t3_q1c5g6      1   GenZedong    t5_1vnbn1       NaN   \n",
      "\n",
      "           Insult  Severe_Toxicity  Identity_Attack  Profanity  \n",
      "0        0.031367         0.002918         0.006216   0.041913  \n",
      "1        0.008387         0.001593         0.003052   0.016685  \n",
      "2        0.084840         0.004101         0.026208   0.052935  \n",
      "3             NaN              NaN              NaN        NaN  \n",
      "4        0.777521         0.169603         0.092455   0.444313  \n",
      "...           ...              ...              ...        ...  \n",
      "5717238       NaN              NaN              NaN        NaN  \n",
      "5717239       NaN              NaN              NaN        NaN  \n",
      "5717240       NaN              NaN              NaN        NaN  \n",
      "5717241       NaN              NaN              NaN        NaN  \n",
      "5717242       NaN              NaN              NaN        NaN  \n",
      "\n",
      "[5717243 rows x 14 columns]\n"
     ]
    }
   ],
   "source": [
    "# get list from database\n",
    "query = \"SELECT * FROM comments;\"\n",
    "\n",
    "reddit_df_comments = pd.read_sql_query(query, con)\n",
    "print(reddit_df_comments)\n",
    "\n",
    "con.close()"
   ]
  },
  {
   "cell_type": "code",
   "execution_count": 85,
   "metadata": {},
   "outputs": [
    {
     "name": "stdout",
     "output_type": "stream",
     "text": [
      "5509339\n"
     ]
    }
   ],
   "source": [
    "# is_self == 1\n",
    "comment_df = reddit_df_comments[reddit_df_comments['body'] != '[removed]']\n",
    "comment_df = comment_df.drop(columns = ['Toxicity','Insult','Severe_Toxicity','Identity_Attack','Profanity'])\n",
    "\n",
    "print(len(comment_df))"
   ]
  },
  {
   "cell_type": "code",
   "execution_count": 86,
   "metadata": {},
   "outputs": [
    {
     "name": "stdout",
     "output_type": "stream",
     "text": [
      "Index(['id', 'author', 'created_utc', 'full_link', 'is_self', 'is_video',\n",
      "       'num_comments', 'num_crossposts', 'over_18', 'score', 'selftext',\n",
      "       'subreddit', 'subreddit_id', 'title', 'url'],\n",
      "      dtype='object')\n",
      "Index(['id', 'author', 'body', 'created_utc', 'is_submitter', 'link_id',\n",
      "       'score', 'subreddit', 'subreddit_id'],\n",
      "      dtype='object')\n"
     ]
    }
   ],
   "source": [
    "print(posts_df.keys())\n",
    "print(comment_df.keys())\n"
   ]
  },
  {
   "cell_type": "code",
   "execution_count": 22,
   "metadata": {},
   "outputs": [
    {
     "name": "stdout",
     "output_type": "stream",
     "text": [
      "8g7568\n"
     ]
    }
   ],
   "source": [
    "print(comment_df['link_id'].iloc[3][3:9])"
   ]
  },
  {
   "cell_type": "code",
   "execution_count": 34,
   "metadata": {},
   "outputs": [],
   "source": [
    "comments_id = []\n",
    "for i in range(len(posts_df)):\n",
    "    comments_id.append(comment_df.iloc[i]['link_id'][3:9])"
   ]
  },
  {
   "cell_type": "code",
   "execution_count": 57,
   "metadata": {},
   "outputs": [],
   "source": [
    "comments_avail = []\n",
    "for id in posts_df['id']:\n",
    "    if id in comments_id:\n",
    "        comments_avail.append(1)\n",
    "    else:\n",
    "        comments_avail.append(0)\n",
    "posts_df.insert(2, \"comments_avail\", comments_avail, True)"
   ]
  },
  {
   "cell_type": "code",
   "execution_count": 90,
   "metadata": {},
   "outputs": [
    {
     "name": "stdout",
     "output_type": "stream",
     "text": [
      "             id          author  created_utc  \\\n",
      "6        8g7f25            RBK2   1525170304   \n",
      "12       8g7zy1            RBK2   1525177016   \n",
      "14       8g8h7o     Lupinfujiko   1525181598   \n",
      "15       8g8o53       ckershaw6   1525183342   \n",
      "19       8gb7rj            Vwar   1525203318   \n",
      "...         ...             ...          ...   \n",
      "4574190  tr4hie  MortLightstone   1648567374   \n",
      "4574195  trahgx    Javamaster22   1648575443   \n",
      "4574198  trfplp     Sahib_Sim07   1648582713   \n",
      "4574200  trirh7  Paleo_dude2010   1648585227   \n",
      "4574212  ubt05y       M_lackovi   1650914294   \n",
      "\n",
      "                                                 full_link  is_self  is_video  \\\n",
      "6        https://www.reddit.com/r/MensRights/comments/8...        1         0   \n",
      "12       https://www.reddit.com/r/MensRights/comments/8...        1         0   \n",
      "14       https://www.reddit.com/r/MensRights/comments/8...        1         0   \n",
      "15       https://www.reddit.com/r/MensRights/comments/8...        1         0   \n",
      "19       https://www.reddit.com/r/MensRights/comments/8...        1         0   \n",
      "...                                                    ...      ...       ...   \n",
      "4574190  https://www.reddit.com/r/space/comments/tr4hie...        1         0   \n",
      "4574195  https://www.reddit.com/r/space/comments/trahgx...        1         0   \n",
      "4574198  https://www.reddit.com/r/space/comments/trfplp...        1         0   \n",
      "4574200  https://www.reddit.com/r/space/comments/trirh7...        1         0   \n",
      "4574212  https://www.reddit.com/r/space/comments/ubt05y...        1         0   \n",
      "\n",
      "         num_comments  num_crossposts  over_18  score  \\\n",
      "6                  46               0        0    102   \n",
      "12                 13               0        0      0   \n",
      "14                 88               0        0    389   \n",
      "15                 50               0        0      0   \n",
      "19                  8               0        0      9   \n",
      "...               ...             ...      ...    ...   \n",
      "4574190            10               0        0      0   \n",
      "4574195             7               0        0      0   \n",
      "4574198            49               0        0      4   \n",
      "4574200            90               0        0      1   \n",
      "4574212            17               0        0      0   \n",
      "\n",
      "                                                  selftext   subreddit  \\\n",
      "6        ... the simplest response is \"so female victim...  MensRights   \n",
      "12       If women were oppressed in the West until quit...  MensRights   \n",
      "14       I find that I run into this argument a lot whe...  MensRights   \n",
      "15       In addition to the fact that women tend to dri...  MensRights   \n",
      "19       I like Peterson, agree with most of his views ...  MensRights   \n",
      "...                                                    ...         ...   \n",
      "4574190  I'm not sure if this is the right place to ask...       space   \n",
      "4574195  Hello and good afternoon! \\n\\nI'm a huge histo...       space   \n",
      "4574198   is there a reason that our moon doesn’t have ...       space   \n",
      "4574200                                                          space   \n",
      "4574212  A question has been bothering me for way too l...       space   \n",
      "\n",
      "        subreddit_id                                              title  \\\n",
      "6           t5_2qhk3  When feminists say \"male victims of DV are not...   \n",
      "12          t5_2qhk3  Average \"MRA\" on this subreddit believes that ...   \n",
      "14          t5_2qhk3  \"Women were oppressed in the past, therefore i...   \n",
      "15          t5_2qhk3  Why drivers insurance costs more for men (hint...   \n",
      "19          t5_2qhk3  Constructive Criticism of Jordan Peterson on E...   \n",
      "...              ...                                                ...   \n",
      "4574190     t5_2qh87  In the future, if the UAE space program succee...   \n",
      "4574195     t5_2qh87          Newcomer to everything...space. need help   \n",
      "4574198     t5_2qh87  Why is the earths moon named moon and other mo...   \n",
      "4574200     t5_2qh87  What would be the scariest message to receive ...   \n",
      "4574212     t5_2qh87  So we know that the universe is ever-expanding...   \n",
      "\n",
      "                                                       url  comments_avail  \n",
      "6        https://www.reddit.com/r/MensRights/comments/8...               1  \n",
      "12       https://www.reddit.com/r/MensRights/comments/8...               1  \n",
      "14       https://www.reddit.com/r/MensRights/comments/8...               0  \n",
      "15       https://www.reddit.com/r/MensRights/comments/8...               0  \n",
      "19       https://www.reddit.com/r/MensRights/comments/8...               0  \n",
      "...                                                    ...             ...  \n",
      "4574190  https://www.reddit.com/r/space/comments/tr4hie...               0  \n",
      "4574195  https://www.reddit.com/r/space/comments/trahgx...               0  \n",
      "4574198  https://www.reddit.com/r/space/comments/trfplp...               0  \n",
      "4574200  https://www.reddit.com/r/space/comments/trirh7...               0  \n",
      "4574212  https://www.reddit.com/r/space/comments/ubt05y...               0  \n",
      "\n",
      "[715955 rows x 16 columns]\n"
     ]
    }
   ],
   "source": [
    "\n",
    "posts_df.insert(len(posts_df.keys()), \"comments_avail\", comments_avail, True)\n",
    "print(posts_df)"
   ]
  },
  {
   "cell_type": "code",
   "execution_count": 1,
   "metadata": {},
   "outputs": [
    {
     "ename": "NameError",
     "evalue": "name 'posts_df' is not defined",
     "output_type": "error",
     "traceback": [
      "\u001b[0;31m---------------------------------------------------------------------------\u001b[0m",
      "\u001b[0;31mNameError\u001b[0m                                 Traceback (most recent call last)",
      "Cell \u001b[0;32mIn [1], line 1\u001b[0m\n\u001b[0;32m----> 1\u001b[0m \u001b[39mprint\u001b[39m(\u001b[39mlen\u001b[39m(posts_df[posts_df[\u001b[39m'\u001b[39m\u001b[39mcomments_avail\u001b[39m\u001b[39m'\u001b[39m] \u001b[39m==\u001b[39m \u001b[39m1\u001b[39m]))\n",
      "\u001b[0;31mNameError\u001b[0m: name 'posts_df' is not defined"
     ]
    }
   ],
   "source": [
    "print(len(posts_df[posts_df['comments_avail'] == 1]))"
   ]
  }
 ],
 "metadata": {
  "kernelspec": {
   "display_name": "Python 3.10.6 64-bit",
   "language": "python",
   "name": "python3"
  },
  "language_info": {
   "codemirror_mode": {
    "name": "ipython",
    "version": 3
   },
   "file_extension": ".py",
   "mimetype": "text/x-python",
   "name": "python",
   "nbconvert_exporter": "python",
   "pygments_lexer": "ipython3",
   "version": "3.10.6"
  },
  "orig_nbformat": 4,
  "vscode": {
   "interpreter": {
    "hash": "916dbcbb3f70747c44a77c7bcd40155683ae19c65e1c03b4aa3499c5328201f1"
   }
  }
 },
 "nbformat": 4,
 "nbformat_minor": 2
}
